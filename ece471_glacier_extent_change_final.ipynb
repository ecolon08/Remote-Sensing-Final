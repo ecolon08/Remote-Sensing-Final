{
 "cells": [
  {
   "cell_type": "markdown",
   "metadata": {
    "collapsed": true,
    "pycharm": {
     "name": "#%% md\n"
    }
   },
   "source": [
    "### Glacier Extent Change\n",
    "\n",
    "ECE471 Remote Sensing Final Project\n",
    "\n",
    "The Cooper Union\n",
    "\n",
    "Spring 2021\n",
    "\n",
    "Ernesto C., Chanoch G., David L."
   ]
  },
  {
   "cell_type": "code",
   "execution_count": 1,
   "metadata": {
    "pycharm": {
     "name": "#%%\n"
    }
   },
   "outputs": [],
   "source": [
    "import ee\n",
    "import geemap\n",
    "import numpy as np\n",
    "import matplotlib.pyplot as plt"
   ]
  },
  {
   "cell_type": "markdown",
   "metadata": {
    "pycharm": {
     "name": "#%%\n"
    }
   },
   "source": [
    "### Create a map and add the GLIMS layer on top to visualize glaciers\n",
    "\n",
    "Link to GLIMS dataset: https://developers.google.com/earth-engine/datasets/catalog/GLIMS_current"
   ]
  },
  {
   "cell_type": "code",
   "execution_count": 2,
   "metadata": {},
   "outputs": [
    {
     "data": {
      "application/vnd.jupyter.widget-view+json": {
       "model_id": "96b7d9f2ce9849deba957b62f08e6b37",
       "version_major": 2,
       "version_minor": 0
      },
      "text/plain": [
       "Map(center=[61.1202022, -147.1260955], controls=(WidgetControl(options=['position'], widget=HBox(children=(Tog…"
      ]
     },
     "metadata": {},
     "output_type": "display_data"
    }
   ],
   "source": [
    "Map = geemap.Map()\n",
    "\n",
    "dataset = ee.FeatureCollection('GLIMS/current')\n",
    "visParams = {\n",
    "  'palette': ['gray', 'cyan', 'blue'],\n",
    "  'min': 0.0,\n",
    "  'max': 10.0,\n",
    "  'opacity': 0.8,\n",
    "}\n",
    "image = ee.Image().float().paint(dataset, 'area')\n",
    "\n",
    "# Columbia Glacier, Alaska\n",
    "lat = 61.1202022\n",
    "long = -147.1260955\n",
    "\n",
    "Map.setCenter(long, lat, 9)\n",
    "Map.addLayer(image, visParams, 'GLIMS/current')\n",
    "Map.addLayer(dataset, {}, 'for Inspector', False)\n",
    "\n",
    "# Display map\n",
    "Map"
   ]
  },
  {
   "cell_type": "code",
   "execution_count": 3,
   "metadata": {},
   "outputs": [],
   "source": [
    "import json\n",
    "columbia_glacier_file = 'columbia_glacier.geojson'\n",
    "with open(columbia_glacier_file, 'r') as f:\n",
    "  fc = json.load(f)\n",
    "\n",
    "# grab the WGS geometry\n",
    "geometry = fc['features'][0]['geometry']\n",
    "\n",
    "# Create region of interest\n",
    "roi = ee.Geometry(geometry)"
   ]
  },
  {
   "cell_type": "code",
   "execution_count": 4,
   "metadata": {},
   "outputs": [
    {
     "name": "stdout",
     "output_type": "stream",
     "text": [
      "{'coordinates': [[[-147.340617, 60.971976],\n",
      "                  [-147.340617, 61.174791],\n",
      "                  [-146.728045, 61.174791],\n",
      "                  [-146.728045, 60.971976],\n",
      "                  [-147.340617, 60.971976]]],\n",
      " 'type': 'Polygon'}\n"
     ]
    }
   ],
   "source": [
    "from pprint import pprint\n",
    "pprint(geometry)"
   ]
  },
  {
   "cell_type": "markdown",
   "metadata": {},
   "source": [
    "#### Create RGB timelapse\n",
    "\n",
    "**Note: the add_landsat_ts_gif function will download the gif to your local Downloads folder.\n",
    "You can change the working directory**"
   ]
  },
  {
   "cell_type": "code",
   "execution_count": 5,
   "metadata": {},
   "outputs": [
    {
     "data": {
      "application/vnd.jupyter.widget-view+json": {
       "model_id": "6abb00fda0ab44d18cdfc4ba81f4f6e6",
       "version_major": 2,
       "version_minor": 0
      },
      "text/plain": [
       "Map(center=[61.1202022, -147.1260955], controls=(WidgetControl(options=['position'], widget=HBox(children=(Tog…"
      ]
     },
     "metadata": {},
     "output_type": "display_data"
    }
   ],
   "source": [
    "# Create a new map for our timelapse\n",
    "rgb_timelapse_map = geemap.Map()\n",
    "rgb_timelapse_map.setCenter(long, lat, 9)\n",
    "rgb_timelapse_map"
   ]
  },
  {
   "cell_type": "code",
   "execution_count": 6,
   "metadata": {},
   "outputs": [
    {
     "name": "stdout",
     "output_type": "stream",
     "text": [
      "Generating URL...\n",
      "Downloading GIF image from https://earthengine.googleapis.com/v1alpha/projects/earthengine-legacy/videoThumbnails/9c15c947a2cbb69a1e586072ed2303f1-b5e7a1bc544d22b78ffd9a3b428f013c:getPixels\n",
      "Please wait ...\n",
      "The GIF image has been saved to: C:\\Users\\ernes\\Downloads\\landsat_ts_uia.gif\n",
      "Adding animated text to GIF ...\n",
      "Adding GIF to the map ...\n",
      "The timelapse has been added to the map.\n"
     ]
    }
   ],
   "source": [
    "# Add timelapse\n",
    "\n",
    "label = 'Glacier Change'\n",
    "rgb_timelapse_map.add_landsat_ts_gif(roi=roi,\n",
    "                                label=label,\n",
    "                                start_year=2000,\n",
    "                                end_year=2020,\n",
    "                                bands=['Red', 'Green', 'Blue'],\n",
    "                                font_color='red',\n",
    "                                frames_per_second=0.5,\n",
    "                                progress_bar_color='blue'\n",
    "                                )"
   ]
  },
  {
   "cell_type": "markdown",
   "metadata": {},
   "source": [
    "#### Create SWIR, NIR, Green Composite"
   ]
  },
  {
   "cell_type": "code",
   "execution_count": 7,
   "metadata": {},
   "outputs": [
    {
     "data": {
      "application/vnd.jupyter.widget-view+json": {
       "model_id": "9bcc689776f848829df66ba32c74e59c",
       "version_major": 2,
       "version_minor": 0
      },
      "text/plain": [
       "Map(center=[61.1202022, -147.1260955], controls=(WidgetControl(options=['position'], widget=HBox(children=(Tog…"
      ]
     },
     "metadata": {},
     "output_type": "display_data"
    }
   ],
   "source": [
    "# Create a new map for our timelapse\n",
    "timelapse_map = geemap.Map()\n",
    "timelapse_map.setCenter(long, lat, 10)\n",
    "timelapse_map"
   ]
  },
  {
   "cell_type": "code",
   "execution_count": 8,
   "metadata": {},
   "outputs": [
    {
     "name": "stdout",
     "output_type": "stream",
     "text": [
      "Generating URL...\n",
      "Downloading GIF image from https://earthengine.googleapis.com/v1alpha/projects/earthengine-legacy/videoThumbnails/f9fcd7aa36d149133475d7465f164343-d407634565596c37881e9be40470a2c1:getPixels\n",
      "Please wait ...\n",
      "The GIF image has been saved to: C:\\Users\\ernes\\Downloads\\landsat_ts_bsu.gif\n",
      "Adding animated text to GIF ...\n",
      "Adding GIF to the map ...\n",
      "The timelapse has been added to the map.\n"
     ]
    }
   ],
   "source": [
    "label = 'Glacier Change'\n",
    "timelapse_map.add_landsat_ts_gif(roi=roi,\n",
    "                                label=label,\n",
    "                                start_year=2000,\n",
    "                                end_year=2020,\n",
    "                                bands=['SWIR1', 'NIR', 'Green'],\n",
    "                                font_color='red',\n",
    "                                frames_per_second=0.5,\n",
    "                                progress_bar_color='blue'\n",
    "                                )"
   ]
  },
  {
   "cell_type": "markdown",
   "metadata": {},
   "source": [
    "### Create an RGB median composite"
   ]
  },
  {
   "cell_type": "code",
   "execution_count": 9,
   "metadata": {},
   "outputs": [
    {
     "data": {
      "application/vnd.jupyter.widget-view+json": {
       "model_id": "cff3075cf6004e838f0d8a74c58f074b",
       "version_major": 2,
       "version_minor": 0
      },
      "text/plain": [
       "Map(center=[61.1202022, -147.1260955], controls=(WidgetControl(options=['position'], widget=HBox(children=(Tog…"
      ]
     },
     "metadata": {},
     "output_type": "display_data"
    }
   ],
   "source": [
    "def maskL8sr(image):\n",
    "  # Bits 3 and 5 are cloud shadow and cloud, respectively.\n",
    "  cloudShadowBitMask = (1 << 3)\n",
    "  cloudsBitMask = (1 << 5)\n",
    "  # Get the pixel QA band.\n",
    "  qa = image.select('pixel_qa')\n",
    "  # Both flags should be set to zero, indicating clear conditions.\n",
    "  mask = qa.bitwiseAnd(cloudShadowBitMask).eq(0) \\\n",
    "                 .And(qa.bitwiseAnd(cloudsBitMask).eq(0))\n",
    "  return image.updateMask(mask)\n",
    "\n",
    "start_date = '2015-05-01'\n",
    "end_date = '2015-12-31'\n",
    "\n",
    "dataset = ee.ImageCollection('LANDSAT/LC08/C01/T1_SR').filterDate(start_date, end_date).filterBounds(roi).map(maskL8sr)\n",
    "\n",
    "visParams = {\n",
    "  'bands': ['B4', 'B3', 'B2'],\n",
    "  'min': 0,\n",
    "  'max': 6000,\n",
    "  'gamma': 1.4,\n",
    "}\n",
    "\n",
    "\n",
    "Map5 = geemap.Map(center=(lat, long), zoom=10)\n",
    "Map5.addLayer(dataset.median(), visParams)\n",
    "Map5"
   ]
  },
  {
   "cell_type": "markdown",
   "metadata": {},
   "source": [
    "### SWIR1, NIR, Green False Color Median Composite"
   ]
  },
  {
   "cell_type": "code",
   "execution_count": 10,
   "metadata": {},
   "outputs": [
    {
     "data": {
      "application/vnd.jupyter.widget-view+json": {
       "model_id": "894f5948576140169329b282f2ec3aa7",
       "version_major": 2,
       "version_minor": 0
      },
      "text/plain": [
       "Map(center=[61.1202022, -147.1260955], controls=(WidgetControl(options=['position'], widget=HBox(children=(Tog…"
      ]
     },
     "metadata": {},
     "output_type": "display_data"
    }
   ],
   "source": [
    "visParams = {\n",
    "  'bands': ['B6', 'B5', 'B3'],\n",
    "  'min': 0,\n",
    "  'max': 6000,\n",
    "  'gamma': 1.4,\n",
    "}\n",
    "\n",
    "\n",
    "Map6 = geemap.Map(center=(lat, long), zoom=10)\n",
    "Map6.addLayer(dataset.median(), visParams)\n",
    "Map6"
   ]
  }
 ],
 "metadata": {
  "kernelspec": {
   "display_name": "Python 3",
   "language": "python",
   "name": "python3"
  },
  "language_info": {
   "codemirror_mode": {
    "name": "ipython",
    "version": 3
   },
   "file_extension": ".py",
   "mimetype": "text/x-python",
   "name": "python",
   "nbconvert_exporter": "python",
   "pygments_lexer": "ipython3",
   "version": "3.6.12"
  }
 },
 "nbformat": 4,
 "nbformat_minor": 1
}