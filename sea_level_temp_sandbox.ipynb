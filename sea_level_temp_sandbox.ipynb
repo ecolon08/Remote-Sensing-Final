{
 "cells": [
  {
   "cell_type": "code",
   "execution_count": 13,
   "metadata": {},
   "outputs": [],
   "source": [
    "# Import libraries\n",
    "import ee\n",
    "import geemap\n",
    "import numpy as np\n",
    "import matplotlib.pyplot as plt\n",
    "import os\n",
    "import skimage\n",
    "import skimage.filters\n",
    "from skimage import io\n",
    "import json\n",
    "from pprint import pprint\n",
    "from tabulate import tabulate\n",
    "import pandas as pd"
   ]
  },
  {
   "cell_type": "code",
   "execution_count": 2,
   "metadata": {},
   "outputs": [
    {
     "data": {
      "text/html": [
       "<p>To authorize access needed by Earth Engine, open the following\n",
       "        URL in a web browser and follow the instructions:</p>\n",
       "        <p><a href=https://accounts.google.com/o/oauth2/auth?client_id=517222506229-vsmmajv00ul0bs7p89v5m89qs8eb9359.apps.googleusercontent.com&scope=https%3A%2F%2Fwww.googleapis.com%2Fauth%2Fearthengine+https%3A%2F%2Fwww.googleapis.com%2Fauth%2Fdevstorage.full_control&redirect_uri=urn%3Aietf%3Awg%3Aoauth%3A2.0%3Aoob&response_type=code&code_challenge=4MgZehmwOR31oZPC3lD6giGUInexXbLZQT0Aqgbkv-E&code_challenge_method=S256>https://accounts.google.com/o/oauth2/auth?client_id=517222506229-vsmmajv00ul0bs7p89v5m89qs8eb9359.apps.googleusercontent.com&scope=https%3A%2F%2Fwww.googleapis.com%2Fauth%2Fearthengine+https%3A%2F%2Fwww.googleapis.com%2Fauth%2Fdevstorage.full_control&redirect_uri=urn%3Aietf%3Awg%3Aoauth%3A2.0%3Aoob&response_type=code&code_challenge=4MgZehmwOR31oZPC3lD6giGUInexXbLZQT0Aqgbkv-E&code_challenge_method=S256</a></p>\n",
       "        <p>The authorization workflow will generate a code, which you\n",
       "        should paste in the box below</p>\n",
       "        "
      ],
      "text/plain": [
       "<IPython.core.display.HTML object>"
      ]
     },
     "metadata": {},
     "output_type": "display_data"
    },
    {
     "name": "stdout",
     "output_type": "stream",
     "text": [
      "Enter verification code: 4/1AY0e-g4luXxIGRUglTV0Uta3C4rqf5-ZWfvOk6J5lLbFTFp2xQLLTxUVTfs\n",
      "\n",
      "Successfully saved authorization token.\n"
     ]
    }
   ],
   "source": [
    "# Trigger the authentication flow\n",
    "ee.Authenticate()\n",
    "\n",
    "# Initialize the library\n",
    "ee.Initialize()"
   ]
  },
  {
   "cell_type": "markdown",
   "metadata": {},
   "source": [
    "### Exploring sea salinity, temperature, and elevation\n",
    "\n",
    "https://developers.google.com/earth-engine/datasets/tags/ocean\n",
    "\n",
    "First experiment with HYCOM\n",
    "\n",
    "https://developers.google.com/earth-engine/datasets/catalog/HYCOM_sea_temp_salinity#description"
   ]
  },
  {
   "cell_type": "code",
   "execution_count": 3,
   "metadata": {},
   "outputs": [
    {
     "name": "stdout",
     "output_type": "stream",
     "text": [
      "{'coordinates': [[[-147.340617, 60.971976],\n",
      "                  [-147.340617, 61.174791],\n",
      "                  [-146.728045, 61.174791],\n",
      "                  [-146.728045, 60.971976],\n",
      "                  [-147.340617, 60.971976]]],\n",
      " 'type': 'Polygon'}\n"
     ]
    }
   ],
   "source": [
    "# Load geojson file with region of interest\n",
    "columbia_glacier_file = 'columbia_glacier.geojson'\n",
    "with open(columbia_glacier_file, 'r') as f:\n",
    "  fc = json.load(f)\n",
    "\n",
    "# grab the WGS geometry\n",
    "geometry = fc['features'][0]['geometry']\n",
    "\n",
    "# Create region of interest\n",
    "roi = ee.Geometry(geometry)\n",
    "\n",
    "pprint(geometry)"
   ]
  },
  {
   "cell_type": "code",
   "execution_count": 4,
   "metadata": {},
   "outputs": [],
   "source": [
    "js_snippet = \"\"\"\n",
    "\n",
    "// Import the time series of global images, filter 15 days in August, 2018.\n",
    "var dataset = ee.ImageCollection('HYCOM/sea_temp_salinity')\n",
    "    .filter(ee.Filter.date('2018-08-01', '2018-08-15'));\n",
    "\n",
    "// Select water temperature at 0 meters and scale to degrees C.\n",
    "var seaWaterTemperature = dataset.select('water_temp_0')\n",
    "    .map(function scaleAndOffset(image) {\n",
    "      return ee.Image(image).multiply(0.001).add(20);\n",
    "    });\n",
    "\n",
    "// Define visualization parameters.\n",
    "var visParams = {\n",
    "  min: -2.0,  // Degrees C\n",
    "  max: 34.0,\n",
    "  palette: ['000000', '005aff', '43c8c8', 'fff700', 'ff0000'],\n",
    "};\n",
    "\n",
    "// Display mean 15-day temperature on the map.\n",
    "Map.setCenter(-88.6, 26.4, 1);\n",
    "Map.addLayer(seaWaterTemperature.mean(), visParams, 'Sea Water Temperature');\n",
    "\n",
    "\"\"\""
   ]
  },
  {
   "cell_type": "code",
   "execution_count": 5,
   "metadata": {},
   "outputs": [],
   "source": [
    "#geemap.js_snippet_to_py(js_snippet, add_new_cell=True, import_ee=False, import_geemap=False, show_map=False)"
   ]
  },
  {
   "cell_type": "code",
   "execution_count": 6,
   "metadata": {},
   "outputs": [
    {
     "data": {
      "application/vnd.jupyter.widget-view+json": {
       "model_id": "5d21d9ef19654ea1a7d1a4d4997dba75",
       "version_major": 2,
       "version_minor": 0
      },
      "text/plain": [
       "Map(center=[61.1202022, -147.1260955], controls=(WidgetControl(options=['position'], widget=HBox(children=(Tog…"
      ]
     },
     "metadata": {},
     "output_type": "display_data"
    }
   ],
   "source": [
    "def scaleAndOffset(image):\n",
    "    return ee.Image(image).multiply(0.001).add(20)\n",
    "\n",
    "# Import the time series of global images, filter 15 days in August, 2018.\n",
    "dataset = ee.ImageCollection('HYCOM/sea_temp_salinity').filter(ee.Filter.date('2018-08-01', '2018-08-15')).select('water_temp_0').map(scaleAndOffset)\n",
    "\n",
    "# Select water temperature at 0 meters and scale to degrees C.\n",
    "#seaWaterTemperature = dataset.select('water_temp_0')\n",
    "seaWaterTemperature = dataset\n",
    "\n",
    "#seaWaterTemperature= seaWaterTemperature.map(scaleAndOffset)\n",
    "\n",
    "# Define visualization parameters.\n",
    "visParams = {\n",
    "  'min': -2.0,  # Degrees C\n",
    "  'max': 34.0,\n",
    "  'palette': ['000000', '005aff', '43c8c8', 'fff700', 'ff0000'],\n",
    "}\n",
    "\n",
    "# Columbia Glacier, Alaska coordinates\n",
    "lat = 61.1202022\n",
    "lon = -147.1260955\n",
    "\n",
    "# Display mean 15-day temperature on the map.\n",
    "Map = geemap.Map()\n",
    "Map.setCenter(lon, lat, 10)\n",
    "Map.addLayer(seaWaterTemperature.mean(), visParams, 'Sea Water Temperature')\n",
    "Map.add_ee_layer(roi)\n",
    "\n",
    "Map"
   ]
  },
  {
   "cell_type": "code",
   "execution_count": 7,
   "metadata": {},
   "outputs": [
    {
     "name": "stdout",
     "output_type": "stream",
     "text": [
      "ee.Geometry({\n",
      "  \"functionInvocationValue\": {\n",
      "    \"functionName\": \"GeometryConstructors.Polygon\",\n",
      "    \"arguments\": {\n",
      "      \"coordinates\": {\n",
      "        \"constantValue\": [\n",
      "          [\n",
      "            [\n",
      "              -147.340617,\n",
      "              60.971976\n",
      "            ],\n",
      "            [\n",
      "              -147.340617,\n",
      "              61.174791\n",
      "            ],\n",
      "            [\n",
      "              -146.728045,\n",
      "              61.174791\n",
      "            ],\n",
      "            [\n",
      "              -146.728045,\n",
      "              60.971976\n",
      "            ],\n",
      "            [\n",
      "              -147.340617,\n",
      "              60.971976\n",
      "            ]\n",
      "          ]\n",
      "        ]\n",
      "      }\n",
      "    }\n",
      "  }\n",
      "})\n"
     ]
    },
    {
     "data": {
      "text/plain": [
       "'                \\n[-147.072193,60.84629],\\n[-147.072193,60.916681],\\n[-146.920195,60.916681],\\n[-146.920195,60.84629],\\n[-147.072193,60.84629]\\n'"
      ]
     },
     "execution_count": 7,
     "metadata": {},
     "output_type": "execute_result"
    }
   ],
   "source": [
    "# Grab the last drawn feature from the map. This will be the new region to study sea surface temperature, salinity, and elevation\n",
    "#hycom_roi = Map.draw_last_feature.geometry()\n",
    "\n",
    "# Load geojson file with ocean region of interest to study sea surface temperature, salinity, elevation\n",
    "ocean_file = 'columbia_glacier.geojson'\n",
    "with open(ocean_file, 'r') as f:\n",
    "  fc = json.load(f)\n",
    "\n",
    "# grab the WGS geometry\n",
    "ocean_geometry = fc['features'][0]['geometry']\n",
    "\n",
    "# Create region of interest\n",
    "hycom_roi = ee.Geometry(ocean_geometry)\n",
    "\n",
    "pprint(hycom_roi)\n",
    "\n",
    "'''                \n",
    "[-147.072193,60.84629],\n",
    "[-147.072193,60.916681],\n",
    "[-146.920195,60.916681],\n",
    "[-146.920195,60.84629],\n",
    "[-147.072193,60.84629]\n",
    "'''"
   ]
  },
  {
   "cell_type": "code",
   "execution_count": 8,
   "metadata": {},
   "outputs": [],
   "source": [
    "# Define dates to cycle through\n",
    "years = [str(2000 + i) for i in range(21)]\n",
    "start_dates = [str(2000 + i) + '-01-01' for i in range(21)]\n",
    "end_dates = [str(2000 + i) + '-12-31' for i in range(21)]"
   ]
  },
  {
   "cell_type": "code",
   "execution_count": 10,
   "metadata": {},
   "outputs": [
    {
     "name": "stdout",
     "output_type": "stream",
     "text": [
      "current year:  2000\n",
      "current year:  2001\n",
      "current year:  2002\n",
      "current year:  2003\n",
      "current year:  2004\n",
      "current year:  2005\n",
      "current year:  2006\n",
      "current year:  2007\n",
      "current year:  2008\n",
      "current year:  2009\n",
      "current year:  2010\n",
      "current year:  2011\n",
      "current year:  2012\n",
      "current year:  2013\n",
      "current year:  2014\n",
      "current year:  2015\n",
      "current year:  2016\n",
      "current year:  2017\n",
      "current year:  2018\n",
      "current year:  2019\n",
      "current year:  2020\n"
     ]
    }
   ],
   "source": [
    "# Initialize lists to store the mean temperature and salinity\n",
    "sea_temp_yrly = dict()\n",
    "sea_salinity_yrly = dict()\n",
    "\n",
    "bands = ['water_temp_0', 'salinity_0']\n",
    "\n",
    "# cycle through the dataset and compute a mean and median\n",
    "for idx, yr in enumerate(years):\n",
    "    print(\"current year: \", yr)\n",
    "    \n",
    "    # grab dataset\n",
    "    dataset = ee.ImageCollection('HYCOM/sea_temp_salinity').filter(ee.Filter.date(start_dates[idx], end_dates[idx])).map(scaleAndOffset)\n",
    "    \n",
    "    # compute mean sea water temperature at 0m\n",
    "    sea_water_temp_mean = dataset.select(bands[0]).mean()\n",
    "    sea_water_salinity_mean = dataset.select(bands[1]).mean()\n",
    "    \n",
    "    mean_temp = sea_water_temp_mean.reduceRegion(reducer=ee.Reducer.mean(),\n",
    "                                            geometry=hycom_roi,\n",
    "                                            scale=3500,\n",
    "                                            bestEffort=True)\n",
    "    # store mean temp\n",
    "    sea_temp_yrly[yr] = mean_temp.get(bands[0]).getInfo()\n",
    "    \n",
    "    mean_salinity = sea_water_salinity_mean.reduceRegion(reducer=ee.Reducer.mean(),\n",
    "                                            geometry=hycom_roi,\n",
    "                                            scale=3500,\n",
    "                                            bestEffort=True)\n",
    "    # store mean salinity\n",
    "    sea_salinity_yrly[yr] = mean_salinity.get(bands[1]).getInfo()\n",
    "    \n",
    "    #print(\"Mean temp: \", mean.getInfo())"
   ]
  },
  {
   "cell_type": "code",
   "execution_count": 30,
   "metadata": {},
   "outputs": [
    {
     "name": "stdout",
     "output_type": "stream",
     "text": [
      "Yearly Mean Sea Temperature at 0m\n",
      "\n",
      "+------+-----------------+\n",
      "|      |   Mean Temp (C) |\n",
      "|------+-----------------|\n",
      "| 2000 |         7.26037 |\n",
      "| 2001 |         7.5652  |\n",
      "| 2002 |         7.20078 |\n",
      "| 2003 |         8.138   |\n",
      "| 2004 |         7.439   |\n",
      "| 2005 |         7.90577 |\n",
      "| 2006 |         7.21647 |\n",
      "| 2007 |         6.74186 |\n",
      "| 2008 |         6.69337 |\n",
      "| 2009 |         6.97021 |\n",
      "| 2010 |         7.14969 |\n",
      "| 2011 |         7.43828 |\n",
      "| 2012 |         6.51233 |\n",
      "| 2013 |         9.24374 |\n",
      "| 2014 |         9.12055 |\n",
      "| 2015 |         9.53449 |\n",
      "| 2016 |         9.23391 |\n",
      "| 2017 |         7.51113 |\n",
      "| 2018 |         7.93107 |\n",
      "| 2019 |         7.8546  |\n",
      "| 2020 |         7.30679 |\n",
      "+------+-----------------+\n",
      "\n",
      "\n",
      "Yearly Mean Sea Salinity at 0m\n",
      "\n",
      "+------+-----------------------+\n",
      "|      |   Mean Salinity (psu) |\n",
      "|------+-----------------------|\n",
      "| 2000 |               29.6144 |\n",
      "| 2001 |               29.6875 |\n",
      "| 2002 |               29.4799 |\n",
      "| 2003 |               29.8743 |\n",
      "| 2004 |               29.7378 |\n",
      "| 2005 |               29.8364 |\n",
      "| 2006 |               29.7667 |\n",
      "| 2007 |               29.8774 |\n",
      "| 2008 |               29.7533 |\n",
      "| 2009 |               29.8369 |\n",
      "| 2010 |               29.8245 |\n",
      "| 2011 |               29.8369 |\n",
      "| 2012 |               29.9462 |\n",
      "| 2013 |               31.2911 |\n",
      "| 2014 |               31.5991 |\n",
      "| 2015 |               31.5949 |\n",
      "| 2016 |               31.5413 |\n",
      "| 2017 |               29.1713 |\n",
      "| 2018 |               21.056  |\n",
      "| 2019 |               28.0733 |\n",
      "| 2020 |               20.6686 |\n",
      "+------+-----------------------+\n"
     ]
    }
   ],
   "source": [
    "# tabulate mean temperature and salinity\n",
    "mean_temp_df = pd.DataFrame.from_dict(sea_temp_yrly, orient='index', columns=['Mean Temp (C)'])\n",
    "mean_salinity_df = pd.DataFrame.from_dict(sea_salinity_yrly, orient='index', columns=['Mean Salinity (psu)'])\n",
    "\n",
    "print(\"Yearly Mean Sea Temperature at 0m\\n\")\n",
    "print(tabulate(mean_temp_df, headers='keys', tablefmt='psql'))\n",
    "                                                                               \n",
    "print(\"\\n\\nYearly Mean Sea Salinity at 0m\\n\")\n",
    "print(tabulate(mean_salinity_df, headers='keys', tablefmt='psql'))"
   ]
  },
  {
   "cell_type": "code",
   "execution_count": 37,
   "metadata": {},
   "outputs": [],
   "source": [
    "# I stored the data in a dict, but perhaps I should have used a simple list. Dicts are not ordered so simply calling .values()\n",
    "# may not return the data sorted by years\n",
    "years_int = [int(year) for year in years]\n",
    "sea_mean_temp_list = [sea_temp_yrly[yr] for yr in years]\n",
    "sea_mean_salinity_list = [sea_salinity_yrly[yr] for yr in years]"
   ]
  },
  {
   "cell_type": "code",
   "execution_count": 39,
   "metadata": {},
   "outputs": [
    {
     "data": {
      "image/png": "[encoded data removed]",
      "text/plain": [
       "<Figure size 1152x576 with 2 Axes>"
      ]
     },
     "metadata": {
      "needs_background": "light"
     },
     "output_type": "display_data"
    }
   ],
   "source": [
    "# Plot the mean sea temperature and salinity\n",
    "fig, ax = plt.subplots(1, 2, figsize=(16, 8))\n",
    "ax = ax.ravel()\n",
    "\n",
    "ax[0].plot(years_int, sea_mean_temp_list)\n",
    "ax[0].set_xticks([int(year) for year in years])\n",
    "ax[0].set_xticklabels(years, rotation=45, fontsize=12)\n",
    "ax[0].set_title('Yearly Mean Sea Temperature at 0m')\n",
    "ax[0].set_xlabel('Year')\n",
    "ax[0].set_ylabel('Mean Sea Temperature (C)')\n",
    "\n",
    "ax[1].plot(years_int, sea_mean_salinity_list)\n",
    "ax[1].set_xticks([int(year) for year in years])\n",
    "ax[1].set_xticklabels(years, rotation=45, fontsize=12)\n",
    "ax[1].set_title('Yearly Mean Sea Salinity at 0m')\n",
    "ax[1].set_xlabel('Year')\n",
    "ax[1].set_ylabel('Mean Sea Salinity (psu)');"
   ]
  },
  {
   "cell_type": "markdown",
   "metadata": {},
   "source": [
    "### Grabbing sea surface elevation data"
   ]
  },
  {
   "cell_type": "code",
   "execution_count": 40,
   "metadata": {},
   "outputs": [
    {
     "name": "stdout",
     "output_type": "stream",
     "text": [
      "current year:  2000\n",
      "current year:  2001\n",
      "current year:  2002\n",
      "current year:  2003\n",
      "current year:  2004\n",
      "current year:  2005\n",
      "current year:  2006\n",
      "current year:  2007\n",
      "current year:  2008\n",
      "current year:  2009\n",
      "current year:  2010\n",
      "current year:  2011\n",
      "current year:  2012\n",
      "current year:  2013\n",
      "current year:  2014\n",
      "current year:  2015\n",
      "current year:  2016\n",
      "current year:  2017\n",
      "current year:  2018\n",
      "current year:  2019\n",
      "current year:  2020\n"
     ]
    }
   ],
   "source": [
    "mean_sea_lvl_elv = dict()\n",
    "\n",
    "# cycle through the dataset and compute a mean and median\n",
    "for idx, yr in enumerate(years):\n",
    "    print(\"current year: \", yr)\n",
    "    \n",
    "    # grab dataset\n",
    "    dataset = ee.ImageCollection('HYCOM/sea_surface_elevation').filter(ee.Filter.date(start_dates[idx], end_dates[idx])).select('surface_elevation')\n",
    "    \n",
    "    # compute mean sea water temperature at 0m\n",
    "    sea_surf_elv_mean = dataset.mean()\n",
    "    \n",
    "    \n",
    "    mean_elv = sea_surf_elv_mean.reduceRegion(reducer=ee.Reducer.mean(),\n",
    "                                            geometry=hycom_roi,\n",
    "                                            scale=3500,\n",
    "                                            bestEffort=True)\n",
    "    # store mean temp\n",
    "    mean_sea_lvl_elv[yr] = mean_elv.get('surface_elevation').getInfo()\n"
   ]
  },
  {
   "cell_type": "code",
   "execution_count": 41,
   "metadata": {},
   "outputs": [],
   "source": [
    "sea_mean_elv_list = [mean_sea_lvl_elv[yr] for yr in years]"
   ]
  },
  {
   "cell_type": "code",
   "execution_count": 42,
   "metadata": {},
   "outputs": [
    {
     "data": {
      "text/plain": [
       "Text(0, 0.5, 'Mean Sea Surface Elevation (m)')"
      ]
     },
     "execution_count": 42,
     "metadata": {},
     "output_type": "execute_result"
    },
    {
     "data": {
      "image/png": "[encoded data removed]",
      "text/plain": [
       "<Figure size 576x576 with 1 Axes>"
      ]
     },
     "metadata": {
      "needs_background": "light"
     },
     "output_type": "display_data"
    }
   ],
   "source": [
    "# Plot the mean sea temperature and salinity\n",
    "fig, ax = plt.subplots(1, 1, figsize=(8, 8))\n",
    "#ax = ax.ravel()\n",
    "\n",
    "ax.plot(years_int, sea_mean_elv_list)\n",
    "ax.set_xticks([int(year) for year in years])\n",
    "ax.set_xticklabels(years, rotation=45, fontsize=12)\n",
    "ax.set_title('Yearly Mean Sea Surface Elevation (m)')\n",
    "ax.set_xlabel('Year')\n",
    "ax.set_ylabel('Mean Sea Surface Elevation (m)')"
   ]
  },
  {
   "cell_type": "code",
   "execution_count": null,
   "metadata": {},
   "outputs": [],
   "source": []
  }
 ],
 "metadata": {
  "kernelspec": {
   "display_name": "Python 3",
   "language": "python",
   "name": "python3"
  },
  "language_info": {
   "codemirror_mode": {
    "name": "ipython",
    "version": 3
   },
   "file_extension": ".py",
   "mimetype": "text/x-python",
   "name": "python",
   "nbconvert_exporter": "python",
   "pygments_lexer": "ipython3",
   "version": "3.6.12"
  }
 },
 "nbformat": 4,
 "nbformat_minor": 1
}
